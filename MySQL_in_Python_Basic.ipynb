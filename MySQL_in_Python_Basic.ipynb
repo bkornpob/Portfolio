{
 "cells": [
  {
   "cell_type": "markdown",
   "metadata": {},
   "source": [
    "# MySQL in Python\n",
    "\n",
    "This notebook shows how to operate MySQL in Python.\n",
    "\n",
    "## Installation\n",
    "\n",
    "- Install MySQL server and set it up. Community version, which is free, is sufficient. Remember your setup: username and password.\n",
    "- Install MySQL Workbench (optional).\n",
    "\n",
    "## Let's get started\n",
    "\n",
    "In Python environment, we first establish a connection to the MySQL server."
   ]
  },
  {
   "cell_type": "code",
   "execution_count": 1,
   "metadata": {},
   "outputs": [
    {
     "data": {
      "text/plain": [
       "True"
      ]
     },
     "execution_count": 1,
     "metadata": {},
     "output_type": "execute_result"
    }
   ],
   "source": [
    "# load packages\n",
    "import mysql.connector\n",
    "\n",
    "# establish connection to the server\n",
    "connection = mysql.connector.connect(host='localhost',user='root',password='1234')\n",
    "\n",
    "# verify connection\n",
    "connection.is_connected()"
   ]
  },
  {
   "cell_type": "markdown",
   "metadata": {},
   "source": [
    "For any querying, we create a `cursor` pointing to the connection. Then, we `execute` any MySQL clause."
   ]
  },
  {
   "cell_type": "code",
   "execution_count": 2,
   "metadata": {},
   "outputs": [
    {
     "name": "stdout",
     "output_type": "stream",
     "text": [
      "('db_test',)\n",
      "('information_schema',)\n",
      "('mysql',)\n",
      "('performance_schema',)\n",
      "('sakila',)\n",
      "('sys',)\n",
      "('world',)\n"
     ]
    }
   ],
   "source": [
    "# cursor pointing to the connection\n",
    "cursor = connection.cursor()\n",
    "\n",
    "# execute any MySQL clause\n",
    "# we first create a new database\n",
    "cursor.execute('CREATE DATABASE IF NOT EXISTS db_test')\n",
    "cursor.execute('SHOW DATABASES')\n",
    "for i in cursor:\n",
    "    print(i)"
   ]
  },
  {
   "cell_type": "markdown",
   "metadata": {},
   "source": [
    "To get inside the database, we must establish a new connection which connects to the database."
   ]
  },
  {
   "cell_type": "code",
   "execution_count": 3,
   "metadata": {},
   "outputs": [],
   "source": [
    "connection = mysql.connector.connect(host='localhost', user='root', password='1234', database='db_test')"
   ]
  },
  {
   "cell_type": "markdown",
   "metadata": {},
   "source": [
    "Then, we create a cursor, and start playing with the tables."
   ]
  },
  {
   "cell_type": "code",
   "execution_count": 4,
   "metadata": {},
   "outputs": [],
   "source": [
    "# our database is new, and there is no table inside.\n",
    "cursor = connection.cursor()\n",
    "cursor.execute('SHOW TABLES')\n",
    "for i in cursor:\n",
    "    print(i)"
   ]
  },
  {
   "cell_type": "code",
   "execution_count": 5,
   "metadata": {},
   "outputs": [
    {
     "name": "stdout",
     "output_type": "stream",
     "text": [
      "('customers',)\n"
     ]
    }
   ],
   "source": [
    "# create a new table\n",
    "cursor.execute('CREATE TABLE customers (name VARCHAR(255), address VARCHAR(255))')\n",
    "cursor.execute('SHOW TABLES')\n",
    "for i in cursor:\n",
    "    print(i)"
   ]
  },
  {
   "cell_type": "code",
   "execution_count": 6,
   "metadata": {},
   "outputs": [
    {
     "name": "stdout",
     "output_type": "stream",
     "text": [
      "('name', 'varchar(255)', 'YES', '', None, '')\n",
      "('address', 'varchar(255)', 'YES', '', None, '')\n",
      "('id', 'int(11)', 'NO', 'PRI', None, 'auto_increment')\n"
     ]
    }
   ],
   "source": [
    "# add a primary key\n",
    "cursor.execute('ALTER TABLE customers ADD COLUMN id INT AUTO_INCREMENT PRIMARY KEY')\n",
    "cursor.execute('DESCRIBE customers')\n",
    "for i in cursor:\n",
    "    print(i)"
   ]
  },
  {
   "cell_type": "code",
   "execution_count": 7,
   "metadata": {},
   "outputs": [
    {
     "name": "stdout",
     "output_type": "stream",
     "text": [
      "('John', 'Friday 13', 1)\n"
     ]
    }
   ],
   "source": [
    "# add one row\n",
    "clause = 'INSERT INTO customers (name, address) VALUES (%s, %s)'\n",
    "val = ('John', 'Friday 13')\n",
    "cursor.execute(clause, val)\n",
    "cursor.execute('SELECT * FROM customers')\n",
    "for i in cursor:\n",
    "    print(i)"
   ]
  },
  {
   "cell_type": "code",
   "execution_count": 8,
   "metadata": {},
   "outputs": [
    {
     "name": "stdout",
     "output_type": "stream",
     "text": [
      "('John', 'Friday 13', 1)\n",
      "('Peter', 'Lowstreet 4', 2)\n",
      "('Amy', 'Apple st 652', 3)\n",
      "('Hannah', 'Mountain 21', 4)\n",
      "('Michael', 'Valley 345', 5)\n",
      "('Sandy', 'Ocean blvd 2', 6)\n",
      "('Betty', 'Green Grass 1', 7)\n",
      "('Richard', 'Sky st 331', 8)\n",
      "('Susan', 'One way 98', 9)\n",
      "('Vicky', 'Yellow Garden 2', 10)\n",
      "('Ben', 'Park Lane 38', 11)\n",
      "('William', 'Central st 954', 12)\n",
      "('Chuck', 'Main Road 989', 13)\n",
      "('Viola', 'Sideway 1633', 14)\n"
     ]
    }
   ],
   "source": [
    "# add many rows with executemany\n",
    "clause = 'INSERT INTO customers (name, address) VALUES (%s, %s)'\n",
    "val = [\n",
    "  ('Peter', 'Lowstreet 4'),\n",
    "  ('Amy', 'Apple st 652'),\n",
    "  ('Hannah', 'Mountain 21'),\n",
    "  ('Michael', 'Valley 345'),\n",
    "  ('Sandy', 'Ocean blvd 2'),\n",
    "  ('Betty', 'Green Grass 1'),\n",
    "  ('Richard', 'Sky st 331'),\n",
    "  ('Susan', 'One way 98'),\n",
    "  ('Vicky', 'Yellow Garden 2'),\n",
    "  ('Ben', 'Park Lane 38'),\n",
    "  ('William', 'Central st 954'),\n",
    "  ('Chuck', 'Main Road 989'),\n",
    "  ('Viola', 'Sideway 1633')\n",
    "]\n",
    "cursor.executemany(clause, val)\n",
    "cursor.execute('SELECT * FROM customers')\n",
    "for i in cursor:\n",
    "    print(i)"
   ]
  },
  {
   "cell_type": "code",
   "execution_count": 9,
   "metadata": {},
   "outputs": [
    {
     "name": "stdout",
     "output_type": "stream",
     "text": [
      "('John', 'Friday 13', 1)\n"
     ]
    }
   ],
   "source": [
    "# other clauses can be executed in a similar fashion.\n",
    "cursor.execute('SELECT * FROM customers LIMIT 1')\n",
    "for i in cursor:\n",
    "    print(i)"
   ]
  },
  {
   "cell_type": "code",
   "execution_count": 10,
   "metadata": {},
   "outputs": [
    {
     "name": "stdout",
     "output_type": "stream",
     "text": [
      "(3, 'Apple st 652')\n",
      "(6, 'Ocean blvd 2')\n",
      "(7, 'Green Grass 1')\n",
      "(10, 'Yellow Garden 2')\n"
     ]
    }
   ],
   "source": [
    "cursor.execute('SELECT id,address FROM customers WHERE name LIKE \"%y\"')\n",
    "for i in cursor:\n",
    "    print(i)"
   ]
  },
  {
   "cell_type": "code",
   "execution_count": 11,
   "metadata": {},
   "outputs": [],
   "source": [
    "# commit to the database to save the changes\n",
    "connection.commit()"
   ]
  },
  {
   "cell_type": "code",
   "execution_count": 12,
   "metadata": {},
   "outputs": [],
   "source": [
    "# close\n",
    "cursor.close()\n",
    "connection.close()"
   ]
  },
  {
   "cell_type": "markdown",
   "metadata": {},
   "source": [
    "This last section is to clear everything out of the database, so that the notebook can be rerun."
   ]
  },
  {
   "cell_type": "code",
   "execution_count": 13,
   "metadata": {},
   "outputs": [],
   "source": [
    "connection = mysql.connector.connect(host='localhost', user='root', password='1234', database='db_test')\n",
    "cursor = connection.cursor()\n",
    "cursor.execute('DROP DATABASE db_test')\n",
    "cursor.close()\n",
    "connection.close()"
   ]
  },
  {
   "cell_type": "code",
   "execution_count": null,
   "metadata": {},
   "outputs": [],
   "source": []
  }
 ],
 "metadata": {
  "kernelspec": {
   "display_name": "Python 3",
   "language": "python",
   "name": "python3"
  },
  "language_info": {
   "codemirror_mode": {
    "name": "ipython",
    "version": 3
   },
   "file_extension": ".py",
   "mimetype": "text/x-python",
   "name": "python",
   "nbconvert_exporter": "python",
   "pygments_lexer": "ipython3",
   "version": "3.6.8"
  }
 },
 "nbformat": 4,
 "nbformat_minor": 2
}
